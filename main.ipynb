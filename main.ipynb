{
 "cells": [
  {
   "cell_type": "code",
   "execution_count": null,
   "metadata": {},
   "outputs": [],
   "source": [
    "import pandas as pd\n",
    "\n",
    "# Φόρτωση του dataset\n",
    "df = pd.read_csv(\"alzheimers_disease_data.csv\")\n",
    "\n",
    "# Εμφάνιση των πρώτων 5 γραμμών\n",
    "print(df.head())\n",
    "\n",
    "# Επισκόπηση τύπων δεδομένων\n",
    "print(df.info())\n",
    "\n",
    "# Έλεγχος για ελλείπουσες τιμές\n",
    "print(df.isnull().sum())\n",
    "\n",
    "# Εμφάνιση αριθμού στηλών\n",
    "I = len(df.columns)\n",
    "print(f\"Αριθμός στηλών {len(df.columns)}\")\n"
   ]
  },
  {
   "cell_type": "code",
   "execution_count": null,
   "metadata": {},
   "outputs": [],
   "source": [
    "from sklearn.model_selection import train_test_split\n",
    "from sklearn.preprocessing import StandardScaler\n",
    "\n",
    "# Αφαίρεση μη χρήσιμων στηλών\n",
    "df_cleaned = df.drop(columns=[\"PatientID\", \"DoctorInCharge\"])\n",
    "\n",
    "# Διαχωρισμός χαρακτηριστικών (X) και στόχου (y)\n",
    "X = df_cleaned.drop(columns=[\"Diagnosis\"])\n",
    "y = df_cleaned[\"Diagnosis\"]\n",
    "\n",
    "# Εμφάνιση νέου αριθμού στηλών\n",
    "I = len(X.columns)\n",
    "print(f\"Αριθμός στηλών για είσοδο {I}\")\n",
    "\n",
    "\n",
    "# Κανονικοποίηση αριθμητικών χαρακτηριστικών\n",
    "scaler = StandardScaler()\n",
    "X_scaled = scaler.fit_transform(X)\n",
    "\n",
    "# Διαχωρισμός σε σύνολα εκπαίδευσης και ελέγχου (80-20)\n",
    "X_train, X_test, y_train, y_test = train_test_split(X_scaled, y, test_size=0.2, random_state=42, stratify=y)\n",
    "\n",
    "# Εκτύπωση μεγεθών συνόλων\n",
    "print(f\"Training set size: {X_train.shape}\")\n",
    "print(f\"Test set size: {X_test.shape}\")\n"
   ]
  },
  {
   "cell_type": "code",
   "execution_count": null,
   "metadata": {},
   "outputs": [],
   "source": [
    "from tensorflow.keras.models import Sequential\n",
    "from tensorflow.keras.layers import Dense\n",
    "\n",
    "H  = I//2  # Αριθμός νευρώνων στο κρυφό επίπεδο\n",
    "\n",
    "# Δημιουργία του μοντέλου\n",
    "model = Sequential([\n",
    "    Dense(H, activation='relu', input_shape=(X_train.shape[1],)),  # Κρυφό επίπεδο\n",
    "    Dense(1, activation='sigmoid')  # Έξοδος για binary classification\n",
    "])\n",
    "\n",
    "# Σύνταξη του μοντέλου\n",
    "model.compile(optimizer='adam', loss='binary_crossentropy', metrics=['accuracy'])\n",
    "\n",
    "# Εκτύπωση περίληψης του μοντέλου\n",
    "model.summary()\n"
   ]
  },
  {
   "cell_type": "code",
   "execution_count": null,
   "metadata": {},
   "outputs": [],
   "source": [
    "from sklearn.model_selection import KFold\n",
    "import numpy as np\n",
    "\n",
    "kf = KFold(n_splits=5, shuffle=True, random_state=42)\n",
    "fold = 1\n",
    "\n",
    "for train_index, val_index in kf.split(X_train):\n",
    "    print(f\"Training fold {fold}...\")\n",
    "    \n",
    "    X_train_fold, X_val_fold = X_train[train_index], X_train[val_index]\n",
    "    y_train_fold, y_val_fold = y_train.iloc[train_index], y_train.iloc[val_index]\n",
    "\n",
    "    # Εκπαίδευση\n",
    "    model.fit(X_train_fold, y_train_fold, epochs=50, batch_size=32, validation_data=(X_val_fold, y_val_fold), verbose=1)\n",
    "    \n",
    "    fold += 1\n"
   ]
  }
 ],
 "metadata": {
  "kernelspec": {
   "display_name": ".venv",
   "language": "python",
   "name": "python3"
  },
  "language_info": {
   "codemirror_mode": {
    "name": "ipython",
    "version": 3
   },
   "file_extension": ".py",
   "mimetype": "text/x-python",
   "name": "python",
   "nbconvert_exporter": "python",
   "pygments_lexer": "ipython3",
   "version": "3.11.11"
  }
 },
 "nbformat": 4,
 "nbformat_minor": 2
}
