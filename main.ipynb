{
 "cells": [
  {
   "cell_type": "markdown",
   "metadata": {},
   "source": [
    "<h1>Φόρτωση βιβλιοθηκών και dataset</h1>"
   ]
  },
  {
   "cell_type": "code",
   "execution_count": null,
   "metadata": {},
   "outputs": [],
   "source": [
    "import numpy as np\n",
    "from sklearn.preprocessing import StandardScaler\n",
    "from sklearn.model_selection import KFold\n",
    "import keras\n",
    "from tensorflow.keras.models import Sequential # type: ignore\n",
    "from tensorflow.keras.layers import Dense, Input # type: ignore\n",
    "from tensorflow.keras.metrics import MeanSquaredError # type: ignore\n",
    "import pandas as pd\n",
    "import matplotlib.pyplot as plt\n",
    "\n",
    "# Read dataset \n",
    "dataset = pd.read_csv(\"alzheimers_disease_data.csv\")\n"
   ]
  },
  {
   "cell_type": "markdown",
   "metadata": {},
   "source": [
    "<h1>Προεπεξεργασία Δεδομένων</h1>"
   ]
  },
  {
   "cell_type": "code",
   "execution_count": 8,
   "metadata": {},
   "outputs": [],
   "source": [
    "# Αφαίρεση μη χρήσιμων στηλών\n",
    "dataset = dataset.drop(columns=[\"PatientID\", \"DoctorInCharge\"])\n",
    "\n",
    "# Split into input and output\n",
    "X = dataset.drop(columns=[\"Diagnosis\"])\n",
    "Y = dataset[\"Diagnosis\"]\n",
    "\n",
    "# Features normalization\n",
    "X = StandardScaler().fit_transform(X=X)\n"
   ]
  },
  {
   "cell_type": "markdown",
   "metadata": {},
   "source": [
    "<h1>Παράμετροι Εκπαίδευσης</h1>"
   ]
  },
  {
   "cell_type": "code",
   "execution_count": 4,
   "metadata": {},
   "outputs": [],
   "source": [
    "I = X.shape[1]  # Number of columns\n",
    "H = [\n",
    "    I//2, \n",
    "    2*I//3, \n",
    "    I,\n",
    "    2*I\n",
    "          ]  # Διαφορετικά μεγέθη κρυφών νευρώνων\n",
    "\n",
    "h = [0.001, 0.001, 0.05, 0.01]  # Βήμα εκμάθησης\n",
    "m = [0.2, 0.6, 0.6, 0.6] # Σταθερά momentum\n",
    "\n",
    "# Split the data to training and testing data 5-Fold\n",
    "kfold = KFold(n_splits=5, shuffle=True)\n",
    "\n",
    "epochs = 32  # Αριθμός εποχών\n",
    "batch_size = 32  # Μέγεθος δέσμης"
   ]
  },
  {
   "cell_type": "code",
   "execution_count": null,
   "metadata": {},
   "outputs": [],
   "source": [
    "I = X.shape[1]  # Number of columns\n",
    "H = [\n",
    "    I//2, \n",
    "    2*I//3, \n",
    "    I,\n",
    "    2*I\n",
    "          ]  # Διαφορετικά μεγέθη κρυφών νευρώνων\n",
    "\n",
    "h = [0.001, 0.001, 0.05, 0.01]  # Βήμα εκμάθησης\n",
    "m = [0.2, 0.6, 0.6, 0.6] # Σταθερά momentum\n",
    "\n",
    "# Split the data to training and testing data 5-Fold\n",
    "kfold = KFold(n_splits=5, shuffle=True)\n",
    "\n",
    "epochs = 32  # Αριθμός εποχών\n",
    "batch_size = 32  # Μέγεθος δέσμης"
   ]
  },
  {
   "cell_type": "markdown",
   "metadata": {},
   "source": [
    "<h1>Εκπαίδευση και Προβολή Αποτελεσμάτων</h1>\n",
    "<h2>Αλλαγή στον αριθμό των νευρώνων</h2>"
   ]
  },
  {
   "cell_type": "code",
   "execution_count": null,
   "metadata": {},
   "outputs": [],
   "source": [
    "for i in range(len(H)+1):\n",
    "    print(\"Number of neurons in the hidden layer: \", H[i])\n",
    "\n",
    "    # Αποθήκευση τιμών για το διάγραμμα\n",
    "    avg_loss_per_epoch = np.zeros(epochs)\n",
    "    avg_acc_per_epoch = np.zeros(epochs)\n",
    "\n",
    "    for j, (train, test) in enumerate(kfold.split(X)):\n",
    "        lossList = []\n",
    "        mseList = []\n",
    "        accuracyList = []\n",
    "\n",
    "        # Δημιουργία μοντέλου\n",
    "        model = Sequential()\n",
    "        model.add(Input(shape=(I,)))\n",
    "        model.add(Dense(H[i], activation=\"relu\"))\n",
    "        model.add(Dense(1, activation=\"sigmoid\"))\n",
    "\n",
    "        # Compile model\n",
    "        optimizer = keras.optimizers.SGD(learning_rate=h[0], momentum=m[0])\n",
    "        model.compile(loss='binary_crossentropy', optimizer=optimizer, metrics=[MeanSquaredError(), 'accuracy'])\n",
    "\n",
    "        # Εκπαίδευση μοντέλου και αποθήκευση ιστορικού\n",
    "        history = model.fit(X[train], Y[train], epochs=epochs, batch_size=batch_size, verbose=0)\n",
    "\n",
    "        # Αποθήκευση της απώλειας και της ακρίβειας ανά εποχή\n",
    "        avg_loss_per_epoch += np.array(history.history['loss']) / kfold.get_n_splits()\n",
    "        avg_acc_per_epoch += np.array(history.history['accuracy']) / kfold.get_n_splits()\n",
    "\n",
    "        # Αξιολόγηση μοντέλου\n",
    "        scores = model.evaluate(X[test], Y[test], verbose=0)\n",
    "        lossList.append(scores[0])\n",
    "        mseList.append(scores[1])\n",
    "        accuracyList.append(scores[2])\n",
    "        print(f\"Fold {j}: Loss={scores[0]:.4f}, MSE={scores[1]:.4f}, Accuracy={scores[2]:.4f}\")\n",
    "\n",
    "    print(f\"Average Loss: {np.mean(lossList):.4f}\")\n",
    "    print(f\"Average MSE: {np.mean(mseList):.4f}\")\n",
    "    print(f\"Average Accuracy: {np.mean(accuracyList):.4f}\\n\")\n",
    "        # Σχεδίαση των γραφημάτων σύγκλισης\n",
    "    plt.figure(figsize=(12, 5))\n",
    "\n",
    "    # Loss Plot\n",
    "    plt.subplot(1, 2, 1)\n",
    "    plt.plot(range(1, epochs + 1), avg_loss_per_epoch, marker='o', linestyle='-', color='r')\n",
    "    plt.xlabel(\"Epochs\")\n",
    "    plt.ylabel(\"Loss\")\n",
    "    plt.title(f\"Loss per Epoch (Hidden Neurons: {H[i]})\")\n",
    "    plt.grid()\n",
    "\n",
    "    # Accuracy Plot\n",
    "    plt.subplot(1, 2, 2)\n",
    "    plt.plot(range(1, epochs + 1), avg_acc_per_epoch, marker='o', linestyle='-', color='b')\n",
    "    plt.xlabel(\"Epochs\")\n",
    "    plt.ylabel(\"Accuracy\")\n",
    "    plt.title(f\"Accuracy per Epoch (Hidden Neurons: {H[i]})\")\n",
    "    plt.grid()\n",
    "\n",
    "    plt.show()\n"
   ]
  },
  {
   "cell_type": "markdown",
   "metadata": {},
   "source": [
    "<h2>Αλλαγή στις παραμέτρους εκμάθησης <b>h</b> και <b>m</b></h2>"
   ]
  },
  {
   "cell_type": "code",
   "execution_count": null,
   "metadata": {},
   "outputs": [],
   "source": [
    "for i in range(len(h)):\n",
    "    print(f\"Learning Rate: {h[i]}\")\n",
    "    print(f\"Momentum: {m[i]}\")\n",
    "\n",
    "    # Αποθήκευση τιμών για το διάγραμμα\n",
    "    avg_loss_per_epoch = np.zeros(epochs)\n",
    "    avg_acc_per_epoch = np.zeros(epochs)\n",
    "\n",
    "    for j, (train, test) in enumerate(kfold.split(X)):\n",
    "        lossList = []\n",
    "        mseList = []\n",
    "        accuracyList = []\n",
    "\n",
    "        # Δημιουργία μοντέλου\n",
    "        model = Sequential()\n",
    "        model.add(Input(shape=(I,)))\n",
    "        model.add(Dense(H[0], activation=\"relu\"))\n",
    "        model.add(Dense(1, activation=\"sigmoid\"))\n",
    "\n",
    "        # Compile model\n",
    "        optimizer = keras.optimizers.SGD(learning_rate=h[0], momentum=m[0])\n",
    "        model.compile(loss='binary_crossentropy', optimizer=optimizer, metrics=[MeanSquaredError(), 'accuracy'])\n",
    "\n",
    "        # Εκπαίδευση μοντέλου και αποθήκευση ιστορικού\n",
    "        history = model.fit(X[train], Y[train], epochs=epochs, batch_size=batch_size, verbose=0)\n",
    "\n",
    "        # Αποθήκευση της απώλειας και της ακρίβειας ανά εποχή\n",
    "        avg_loss_per_epoch += np.array(history.history['loss']) / kfold.get_n_splits()\n",
    "        avg_acc_per_epoch += np.array(history.history['accuracy']) / kfold.get_n_splits()\n",
    "\n",
    "        # Αξιολόγηση μοντέλου\n",
    "        scores = model.evaluate(X[test], Y[test], verbose=0)\n",
    "        lossList.append(scores[0])\n",
    "        mseList.append(scores[1])\n",
    "        accuracyList.append(scores[2])\n",
    "        print(f\"Fold {j}: Loss={scores[0]:.4f}, MSE={scores[1]:.4f}, Accuracy={scores[2]:.4f}\")\n",
    "\n",
    "    print(f\"Average Loss: {np.mean(lossList):.4f}\")\n",
    "    print(f\"Average MSE: {np.mean(mseList):.4f}\")\n",
    "    print(f\"Average Accuracy: {np.mean(accuracyList):.4f}\\n\")\n",
    "        # Σχεδίαση των γραφημάτων σύγκλισης\n",
    "    plt.figure(figsize=(12, 5))\n",
    "\n",
    "    # Loss Plot\n",
    "    plt.subplot(1, 2, 1)\n",
    "    plt.plot(range(1, epochs + 1), avg_loss_per_epoch, marker='o', linestyle='-', color='r')\n",
    "    plt.xlabel(\"Epochs\")\n",
    "    plt.ylabel(\"Loss\")\n",
    "    plt.title(f\"Loss per Epoch (Learning Rate: {h[i]}, Momentum: {m[i]})\")\n",
    "    plt.grid()\n",
    "\n",
    "    # Accuracy Plot\n",
    "    plt.subplot(1, 2, 2)\n",
    "    plt.plot(range(1, epochs + 1), avg_acc_per_epoch, marker='o', linestyle='-', color='b')\n",
    "    plt.xlabel(\"Epochs\")\n",
    "    plt.ylabel(\"Accuracy\")\n",
    "    plt.title(f\"Accuracy per Epoch (Learning Rate: {h[i]}, Momentum: {m[i]})\")\n",
    "    plt.grid()\n",
    "\n",
    "    plt.show()\n"
   ]
  }
 ],
 "metadata": {
  "kernelspec": {
   "display_name": ".venv",
   "language": "python",
   "name": "python3"
  },
  "language_info": {
   "codemirror_mode": {
    "name": "ipython",
    "version": 3
   },
   "file_extension": ".py",
   "mimetype": "text/x-python",
   "name": "python",
   "nbconvert_exporter": "python",
   "pygments_lexer": "ipython3",
   "version": "3.11.11"
  }
 },
 "nbformat": 4,
 "nbformat_minor": 2
}
